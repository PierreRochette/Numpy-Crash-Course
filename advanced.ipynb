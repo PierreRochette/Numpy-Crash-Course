{
 "cells": [
  {
   "cell_type": "markdown",
   "id": "cfee6c71",
   "metadata": {},
   "source": [
    "# Broadcasting"
   ]
  },
  {
   "cell_type": "code",
   "execution_count": 1,
   "id": "5538ecfb",
   "metadata": {},
   "outputs": [
    {
     "name": "stdout",
     "output_type": "stream",
     "text": [
      "[5 7 9]\n"
     ]
    }
   ],
   "source": [
    "import numpy as np\n",
    "\n",
    "a = np.array([1, 2, 3])\n",
    "b = np.array([4, 5, 6])\n",
    "\n",
    "print(a + b)"
   ]
  },
  {
   "cell_type": "markdown",
   "id": "ecc08327",
   "metadata": {},
   "source": [
    "An operation on two numpy arrays with same shape results to the sum of each element of each index. \n",
    "To make the previous addition possible with two arrays of elements of different shapes, we have to use **broadcasting**."
   ]
  },
  {
   "cell_type": "code",
   "execution_count": 2,
   "id": "5580b612",
   "metadata": {},
   "outputs": [
    {
     "name": "stdout",
     "output_type": "stream",
     "text": [
      "[5 6 7]\n"
     ]
    }
   ],
   "source": [
    "a = np.array([1, 2, 3])\n",
    "b = np.array([4])\n",
    "print(a + b)\n"
   ]
  },
  {
   "cell_type": "markdown",
   "id": "0d76b07b",
   "metadata": {},
   "source": [
    "The result here is the individual three elements of the first array added to the element of the second array. "
   ]
  },
  {
   "cell_type": "code",
   "execution_count": 3,
   "id": "ba535ff9",
   "metadata": {},
   "outputs": [
    {
     "name": "stdout",
     "output_type": "stream",
     "text": [
      "[[5 6 7]\n",
      " [6 7 8]]\n"
     ]
    }
   ],
   "source": [
    "a = np.array([1, 2, 3]) # (3, )\n",
    "b = np.array([[4], [5]]) # (2, 1)\n",
    "print(a + b)"
   ]
  }
 ],
 "metadata": {
  "kernelspec": {
   "display_name": "venv (3.12.3)",
   "language": "python",
   "name": "python3"
  },
  "language_info": {
   "codemirror_mode": {
    "name": "ipython",
    "version": 3
   },
   "file_extension": ".py",
   "mimetype": "text/x-python",
   "name": "python",
   "nbconvert_exporter": "python",
   "pygments_lexer": "ipython3",
   "version": "3.12.3"
  }
 },
 "nbformat": 4,
 "nbformat_minor": 5
}
